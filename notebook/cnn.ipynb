{
  "nbformat": 4,
  "nbformat_minor": 0,
  "metadata": {
    "colab": {
      "name": "cnn.ipynb",
      "version": "0.3.2",
      "views": {},
      "default_view": {},
      "provenance": [
        {
          "file_id": "1Hbgl0qaje5LFVoldlXaj2fho0pvw2nzL",
          "timestamp": 1526208741752
        }
      ],
      "collapsed_sections": []
    },
    "kernelspec": {
      "display_name": "Python 3",
      "language": "python",
      "name": "python3"
    },
    "accelerator": "GPU"
  },
  "cells": [
    {
      "metadata": {
        "id": "A6OMRQ7j65UI",
        "colab_type": "code",
        "colab": {
          "autoexec": {
            "startup": false,
            "wait_interval": 0
          },
          "base_uri": "https://localhost:8080/",
          "height": 380
        },
        "outputId": "23c31685-4d47-4188-8b48-82eb897ce2f8",
        "executionInfo": {
          "status": "ok",
          "timestamp": 1526206967269,
          "user_tz": -480,
          "elapsed": 7476,
          "user": {
            "displayName": "Yong-wu Wang",
            "photoUrl": "//lh4.googleusercontent.com/-8HezHldKILM/AAAAAAAAAAI/AAAAAAAAEM8/VTvDqPmS6pY/s50-c-k-no/photo.jpg",
            "userId": "108642259020524208320"
          }
        }
      },
      "cell_type": "code",
      "source": [
        "from tensorflow.examples.tutorials.mnist import input_data\n",
        "mnist = input_data.read_data_sets(\"data/\")"
      ],
      "execution_count": 0,
      "outputs": [
        {
          "output_type": "stream",
          "text": [
            "WARNING:tensorflow:From <ipython-input-1-78e19e1f4ee4>:2: read_data_sets (from tensorflow.contrib.learn.python.learn.datasets.mnist) is deprecated and will be removed in a future version.\n",
            "Instructions for updating:\n",
            "Please use alternatives such as official/mnist/dataset.py from tensorflow/models.\n",
            "WARNING:tensorflow:From /usr/local/lib/python3.6/dist-packages/tensorflow/contrib/learn/python/learn/datasets/mnist.py:260: maybe_download (from tensorflow.contrib.learn.python.learn.datasets.base) is deprecated and will be removed in a future version.\n",
            "Instructions for updating:\n",
            "Please write your own downloading logic.\n",
            "WARNING:tensorflow:From /usr/local/lib/python3.6/dist-packages/tensorflow/contrib/learn/python/learn/datasets/mnist.py:262: extract_images (from tensorflow.contrib.learn.python.learn.datasets.mnist) is deprecated and will be removed in a future version.\n",
            "Instructions for updating:\n",
            "Please use tf.data to implement this functionality.\n",
            "Extracting data/train-images-idx3-ubyte.gz\n",
            "WARNING:tensorflow:From /usr/local/lib/python3.6/dist-packages/tensorflow/contrib/learn/python/learn/datasets/mnist.py:267: extract_labels (from tensorflow.contrib.learn.python.learn.datasets.mnist) is deprecated and will be removed in a future version.\n",
            "Instructions for updating:\n",
            "Please use tf.data to implement this functionality.\n",
            "Extracting data/train-labels-idx1-ubyte.gz\n",
            "Extracting data/t10k-images-idx3-ubyte.gz\n",
            "Extracting data/t10k-labels-idx1-ubyte.gz\n",
            "WARNING:tensorflow:From /usr/local/lib/python3.6/dist-packages/tensorflow/contrib/learn/python/learn/datasets/mnist.py:290: DataSet.__init__ (from tensorflow.contrib.learn.python.learn.datasets.mnist) is deprecated and will be removed in a future version.\n",
            "Instructions for updating:\n",
            "Please use alternatives such as official/mnist/dataset.py from tensorflow/models.\n"
          ],
          "name": "stdout"
        }
      ]
    },
    {
      "metadata": {
        "id": "wJeB897_65UR",
        "colab_type": "code",
        "colab": {
          "autoexec": {
            "startup": false,
            "wait_interval": 0
          },
          "base_uri": "https://localhost:8080/",
          "height": 51
        },
        "outputId": "a5be6bd3-67fa-4e9a-8a61-a3b9e893fa19",
        "executionInfo": {
          "status": "ok",
          "timestamp": 1526207634444,
          "user_tz": -480,
          "elapsed": 746,
          "user": {
            "displayName": "Yong-wu Wang",
            "photoUrl": "//lh4.googleusercontent.com/-8HezHldKILM/AAAAAAAAAAI/AAAAAAAAEM8/VTvDqPmS6pY/s50-c-k-no/photo.jpg",
            "userId": "108642259020524208320"
          }
        }
      },
      "cell_type": "code",
      "source": [
        "import tensorflow as tf\n",
        "import numpy as np\n",
        "import tfcoreml\n",
        "from tensorflow.python.tools.freeze_graph import freeze_graph"
      ],
      "execution_count": 0,
      "outputs": [
        {
          "output_type": "stream",
          "text": [
            "WARNING:root:Keras version 2.1.6 detected. Last version known to be fully compatible of Keras is 2.1.3 .\n",
            "WARNING:root:TensorFlow version 1.7.0 detected. Last version known to be fully compatible is 1.5.0 .\n"
          ],
          "name": "stderr"
        }
      ]
    },
    {
      "metadata": {
        "id": "RkEjUR0j65Ua",
        "colab_type": "code",
        "colab": {
          "autoexec": {
            "startup": false,
            "wait_interval": 0
          }
        }
      },
      "cell_type": "code",
      "source": [
        "with tf.name_scope(\"net\"):\n",
        "    input = tf.placeholder(tf.float32, shape=(None, 28, 28, 1), name=\"input\")\n",
        "    conv1 = tf.layers.conv2d(input, 20, 5, activation=tf.nn.relu)\n",
        "    conv1 = tf.layers.max_pooling2d(conv1, 2, 2)\n",
        "    conv2 = tf.layers.conv2d(conv1, 32, 3, activation=tf.nn.relu)\n",
        "    conv2 = tf.layers.max_pooling2d(conv2, 2, 2)\n",
        "    flatten = tf.layers.flatten(conv2)\n",
        "    fc1 = tf.layers.dense(flatten, 256, activation=tf.nn.relu)\n",
        "    output = tf.layers.dense(fc1, 10)\n",
        "    result = tf.argmax(output, axis=1, name=\"result\")"
      ],
      "execution_count": 0,
      "outputs": []
    },
    {
      "metadata": {
        "id": "Dpz5U7Mw65Ud",
        "colab_type": "code",
        "colab": {
          "autoexec": {
            "startup": false,
            "wait_interval": 0
          }
        }
      },
      "cell_type": "code",
      "source": [
        "with tf.name_scope(\"train\"):\n",
        "    labels = tf.placeholder(tf.int32, shape=(None))\n",
        "    loss = tf.reduce_mean(tf.nn.sparse_softmax_cross_entropy_with_logits(logits=output, labels=labels))\n",
        "    train = tf.train.AdamOptimizer(learning_rate=0.01).minimize(loss)"
      ],
      "execution_count": 0,
      "outputs": []
    },
    {
      "metadata": {
        "id": "UbYDEPnJ8nmG",
        "colab_type": "code",
        "colab": {
          "autoexec": {
            "startup": false,
            "wait_interval": 0
          }
        }
      },
      "cell_type": "code",
      "source": [
        "with tf.name_scope(\"eval\"):\n",
        "    # ArgMax of 1-sample input as 4D array, to circumvent tfcoreml argmax bug\n",
        "    result_alt = tf.argmax(tf.reshape(output, (1, 1, 1, 10)), axis = 3, name = \"result_alt\")"
      ],
      "execution_count": 0,
      "outputs": []
    },
    {
      "metadata": {
        "id": "0PaMKpWR65Ui",
        "colab_type": "code",
        "colab": {
          "autoexec": {
            "startup": false,
            "wait_interval": 0
          }
        }
      },
      "cell_type": "code",
      "source": [
        "sess = tf.Session()\n",
        "sess.run(tf.global_variables_initializer())"
      ],
      "execution_count": 0,
      "outputs": []
    },
    {
      "metadata": {
        "id": "YRkeJet465Um",
        "colab_type": "code",
        "colab": {
          "autoexec": {
            "startup": false,
            "wait_interval": 0
          },
          "base_uri": "https://localhost:8080/",
          "height": 187
        },
        "outputId": "ec36d6d3-0344-464b-8df2-e5354eebd74f",
        "executionInfo": {
          "status": "ok",
          "timestamp": 1526207022782,
          "user_tz": -480,
          "elapsed": 49464,
          "user": {
            "displayName": "Yong-wu Wang",
            "photoUrl": "//lh4.googleusercontent.com/-8HezHldKILM/AAAAAAAAAAI/AAAAAAAAEM8/VTvDqPmS6pY/s50-c-k-no/photo.jpg",
            "userId": "108642259020524208320"
          }
        }
      },
      "cell_type": "code",
      "source": [
        "for i in range(10):\n",
        "    avg_loss = 0\n",
        "    for j in range(1000):\n",
        "        _, curr_loss = sess.run((train, loss), feed_dict={\n",
        "            input: np.reshape(mnist.train.images[55 * j: 55 * (j + 1)], (-1, 28, 28, 1)),\n",
        "            labels: mnist.train.labels[55 * j: 55 * (j + 1)]})\n",
        "        avg_loss += curr_loss / 1000\n",
        "    print(avg_loss)"
      ],
      "execution_count": 0,
      "outputs": [
        {
          "output_type": "stream",
          "text": [
            "0.1461365261419814\n",
            "0.08100989671205394\n",
            "0.07519070401717538\n",
            "0.07602644162422262\n",
            "0.06773538513146553\n",
            "0.06052951895418741\n",
            "0.05900409564076155\n",
            "0.0678543020120166\n",
            "0.06147829113705083\n",
            "0.06924019073319937\n"
          ],
          "name": "stdout"
        }
      ]
    },
    {
      "metadata": {
        "id": "NHYss1Hv65Ur",
        "colab_type": "code",
        "colab": {
          "autoexec": {
            "startup": false,
            "wait_interval": 0
          },
          "base_uri": "https://localhost:8080/",
          "height": 34
        },
        "outputId": "48f9ebba-f64a-4664-8070-b2b2e1fbcf6e",
        "executionInfo": {
          "status": "ok",
          "timestamp": 1526207026749,
          "user_tz": -480,
          "elapsed": 861,
          "user": {
            "displayName": "Yong-wu Wang",
            "photoUrl": "//lh4.googleusercontent.com/-8HezHldKILM/AAAAAAAAAAI/AAAAAAAAEM8/VTvDqPmS6pY/s50-c-k-no/photo.jpg",
            "userId": "108642259020524208320"
          }
        }
      },
      "cell_type": "code",
      "source": [
        "test_input = np.reshape(mnist.test.images, (-1, 28, 28, 1))\n",
        "total_correct = 0\n",
        "for i in range(10):\n",
        "  result_output = sess.run(result, feed_dict={input: test_input[1000 * i: 1000 * (i + 1)]})\n",
        "  total_correct += sum(result_output == mnist.test.labels[1000 * i: 1000 * (i + 1)])\n",
        "\n",
        "total_correct / mnist.test.labels.shape[0]"
      ],
      "execution_count": 0,
      "outputs": [
        {
          "output_type": "execute_result",
          "data": {
            "text/plain": [
              "0.9856"
            ]
          },
          "metadata": {
            "tags": []
          },
          "execution_count": 8
        }
      ]
    },
    {
      "metadata": {
        "id": "XEySLfCR65Uw",
        "colab_type": "code",
        "colab": {
          "autoexec": {
            "startup": false,
            "wait_interval": 0
          },
          "base_uri": "https://localhost:8080/",
          "height": 34
        },
        "outputId": "51faa002-a1d3-4639-9c4e-880f28063cb4",
        "executionInfo": {
          "status": "ok",
          "timestamp": 1526207120615,
          "user_tz": -480,
          "elapsed": 654,
          "user": {
            "displayName": "Yong-wu Wang",
            "photoUrl": "//lh4.googleusercontent.com/-8HezHldKILM/AAAAAAAAAAI/AAAAAAAAEM8/VTvDqPmS6pY/s50-c-k-no/photo.jpg",
            "userId": "108642259020524208320"
          }
        }
      },
      "cell_type": "code",
      "source": [
        "saver = tf.train.Saver()\n",
        "saver.save(sess, \"./model/graph\")\n",
        "tf.train.write_graph(sess.graph, \"./model/\", \"graph.pbtxt\")"
      ],
      "execution_count": 0,
      "outputs": [
        {
          "output_type": "execute_result",
          "data": {
            "text/plain": [
              "'./model/graph.pbtxt'"
            ]
          },
          "metadata": {
            "tags": []
          },
          "execution_count": 10
        }
      ]
    },
    {
      "metadata": {
        "id": "MniKYNifCEYz",
        "colab_type": "code",
        "colab": {
          "autoexec": {
            "startup": false,
            "wait_interval": 0
          },
          "base_uri": "https://localhost:8080/",
          "height": 68
        },
        "outputId": "6af646f7-a611-49a7-f89b-4fad46b5b1d4",
        "executionInfo": {
          "status": "ok",
          "timestamp": 1526207171622,
          "user_tz": -480,
          "elapsed": 988,
          "user": {
            "displayName": "Yong-wu Wang",
            "photoUrl": "//lh4.googleusercontent.com/-8HezHldKILM/AAAAAAAAAAI/AAAAAAAAEM8/VTvDqPmS6pY/s50-c-k-no/photo.jpg",
            "userId": "108642259020524208320"
          }
        }
      },
      "cell_type": "code",
      "source": [
        "with tf.Graph().as_default():\n",
        "    freeze_graph(input_graph = \"./model/graph.pbtxt\",\n",
        "                 input_checkpoint = \"./model/graph\",\n",
        "                 input_saver = \"\",\n",
        "                 input_binary = False,\n",
        "                 output_node_names = \"eval/result_alt\",\n",
        "                 output_graph = \"model.pb\",\n",
        "                 restore_op_name = \"save/restore_all\",\n",
        "                 filename_tensor_name = \"save/Const:0\",\n",
        "                 clear_devices = True,\n",
        "                 initializer_nodes = \"\")"
      ],
      "execution_count": 0,
      "outputs": [
        {
          "output_type": "stream",
          "text": [
            "INFO:tensorflow:Restoring parameters from ./model/graph\n",
            "INFO:tensorflow:Froze 8 variables.\n",
            "Converted 8 variables to const ops.\n"
          ],
          "name": "stdout"
        }
      ]
    },
    {
      "metadata": {
        "id": "qn8hYG6iCWxq",
        "colab_type": "code",
        "colab": {
          "autoexec": {
            "startup": false,
            "wait_interval": 0
          },
          "base_uri": "https://localhost:8080/",
          "height": 884
        },
        "outputId": "9ef66a83-6c8d-413f-f5ff-55f38ed24ba7",
        "executionInfo": {
          "status": "ok",
          "timestamp": 1526207916941,
          "user_tz": -480,
          "elapsed": 728,
          "user": {
            "displayName": "Yong-wu Wang",
            "photoUrl": "//lh4.googleusercontent.com/-8HezHldKILM/AAAAAAAAAAI/AAAAAAAAEM8/VTvDqPmS6pY/s50-c-k-no/photo.jpg",
            "userId": "108642259020524208320"
          }
        }
      },
      "cell_type": "code",
      "source": [
        "model = tfcoreml.convert(tf_model_path = \"model.pb\",\n",
        "                         mlmodel_path = \"model.mlmodel\",\n",
        "                         output_feature_names = (\"eval/result_alt:0\",),\n",
        "                         input_name_shape_dict = {\"net/input:0\": (1, 28, 28, 1)})"
      ],
      "execution_count": 0,
      "outputs": [
        {
          "output_type": "stream",
          "text": [
            "Shapes not found for 15 tensors. Executing graph to determine shapes. \n",
            "Automatic shape interpretation succeeded for input blob net/input:0\n",
            "4/42: Converting op name: dense_1/bias/read ( type:  Identity )\n",
            "6/42: Converting op name: dense_1/kernel/read ( type:  Identity )\n",
            "8/42: Converting op name: dense/bias/read ( type:  Identity )\n",
            "10/42: Converting op name: dense/kernel/read ( type:  Identity )\n",
            "16/42: Converting op name: conv2d_1/bias/read ( type:  Identity )\n",
            "18/42: Converting op name: conv2d_1/kernel/read ( type:  Identity )\n",
            "20/42: Converting op name: conv2d/bias/read ( type:  Identity )\n",
            "22/42: Converting op name: conv2d/kernel/read ( type:  Identity )\n",
            "23/42: Converting op name: net/input ( type:  Placeholder )\n",
            "Skipping name of placeholder\n",
            "24/42: Converting op name: net/conv2d/Conv2D ( type:  Conv2D )\n",
            "25/42: Converting op name: net/conv2d/BiasAdd ( type:  BiasAdd )\n",
            "26/42: Converting op name: net/conv2d/Relu ( type:  Relu )\n",
            "27/42: Converting op name: net/max_pooling2d/MaxPool ( type:  MaxPool )\n",
            "28/42: Converting op name: net/conv2d_1/Conv2D ( type:  Conv2D )\n",
            "29/42: Converting op name: net/conv2d_1/BiasAdd ( type:  BiasAdd )\n",
            "30/42: Converting op name: net/conv2d_1/Relu ( type:  Relu )\n",
            "31/42: Converting op name: net/max_pooling2d_1/MaxPool ( type:  MaxPool )\n",
            "32/42: Converting op name: net/flatten/Shape ( type:  Shape )\n",
            "33/42: Converting op name: net/flatten/strided_slice ( type:  StridedSlice )\n",
            "34/42: Converting op name: net/flatten/Reshape/shape ( type:  Pack )\n",
            "35/42: Converting op name: net/flatten/Reshape ( type:  Reshape )\n",
            "36/42: Converting op name: net/dense/MatMul ( type:  MatMul )\n",
            "38/42: Converting op name: net/dense/Relu ( type:  Relu )\n",
            "39/42: Converting op name: net/dense_1/MatMul ( type:  MatMul )\n",
            "41/42: Converting op name: eval/Reshape ( type:  Reshape )\n",
            "42/42: Converting op name: eval/result_alt ( type:  ArgMax )\n",
            "\n",
            " Core ML model generated. Saved at location: model.mlmodel \n",
            "\n",
            "Core ML input(s): \n",
            " [name: \"net__input__0\"\n",
            "type {\n",
            "  multiArrayType {\n",
            "    shape: 1\n",
            "    shape: 28\n",
            "    shape: 28\n",
            "    dataType: DOUBLE\n",
            "  }\n",
            "}\n",
            "]\n",
            "Core ML output(s): \n",
            " [name: \"eval__result_alt__0\"\n",
            "type {\n",
            "  multiArrayType {\n",
            "    dataType: DOUBLE\n",
            "  }\n",
            "}\n",
            "]\n"
          ],
          "name": "stdout"
        }
      ]
    },
    {
      "metadata": {
        "id": "eU6Q7lZdEk6R",
        "colab_type": "code",
        "colab": {
          "autoexec": {
            "startup": false,
            "wait_interval": 0
          },
          "base_uri": "https://localhost:8080/",
          "height": 402
        },
        "outputId": "0349f794-66dc-4639-985b-c7debab9a45a",
        "executionInfo": {
          "status": "error",
          "timestamp": 1526208079821,
          "user_tz": -480,
          "elapsed": 754,
          "user": {
            "displayName": "Yong-wu Wang",
            "photoUrl": "//lh4.googleusercontent.com/-8HezHldKILM/AAAAAAAAAAI/AAAAAAAAEM8/VTvDqPmS6pY/s50-c-k-no/photo.jpg",
            "userId": "108642259020524208320"
          }
        }
      },
      "cell_type": "code",
      "source": [
        "output_mlmodel = tuple(map(lambda data: int(model.predict({\"net__input__0\": data})[\"eval__result_alt__0\"]),\n",
        "                           np.reshape(mnist.test.images, (-1, 1, 28, 28))))\n",
        "print(\"Correct: %.2f\" % (sum(output_mlmodel == mnist.test.labels) / mnist.test.num_examples * 100) + \"%\")"
      ],
      "execution_count": 0,
      "outputs": [
        {
          "output_type": "error",
          "ename": "Exception",
          "evalue": "ignored",
          "traceback": [
            "\u001b[0;31m---------------------------------------------------------------------------\u001b[0m",
            "\u001b[0;31mException\u001b[0m                                 Traceback (most recent call last)",
            "\u001b[0;32m<ipython-input-31-79707b22bebf>\u001b[0m in \u001b[0;36m<module>\u001b[0;34m()\u001b[0m\n\u001b[1;32m      1\u001b[0m output_mlmodel = tuple(map(lambda data: int(model.predict({\"net__input__0\": data})[\"eval__result_alt__0\"]),\n\u001b[0;32m----> 2\u001b[0;31m                            np.reshape(mnist.test.images, (-1, 1, 28, 28))))\n\u001b[0m\u001b[1;32m      3\u001b[0m \u001b[0mprint\u001b[0m\u001b[0;34m(\u001b[0m\u001b[0;34m\"Correct: %.2f\"\u001b[0m \u001b[0;34m%\u001b[0m \u001b[0;34m(\u001b[0m\u001b[0msum\u001b[0m\u001b[0;34m(\u001b[0m\u001b[0moutput_mlmodel\u001b[0m \u001b[0;34m==\u001b[0m \u001b[0mmnist\u001b[0m\u001b[0;34m.\u001b[0m\u001b[0mtest\u001b[0m\u001b[0;34m.\u001b[0m\u001b[0mlabels\u001b[0m\u001b[0;34m)\u001b[0m \u001b[0;34m/\u001b[0m \u001b[0mmnist\u001b[0m\u001b[0;34m.\u001b[0m\u001b[0mtest\u001b[0m\u001b[0;34m.\u001b[0m\u001b[0mnum_examples\u001b[0m \u001b[0;34m*\u001b[0m \u001b[0;36m100\u001b[0m\u001b[0;34m)\u001b[0m \u001b[0;34m+\u001b[0m \u001b[0;34m\"%\"\u001b[0m\u001b[0;34m)\u001b[0m\u001b[0;34m\u001b[0m\u001b[0m\n",
            "\u001b[0;32m<ipython-input-31-79707b22bebf>\u001b[0m in \u001b[0;36m<lambda>\u001b[0;34m(data)\u001b[0m\n\u001b[0;32m----> 1\u001b[0;31m output_mlmodel = tuple(map(lambda data: int(model.predict({\"net__input__0\": data})[\"eval__result_alt__0\"]),\n\u001b[0m\u001b[1;32m      2\u001b[0m                            np.reshape(mnist.test.images, (-1, 1, 28, 28))))\n\u001b[1;32m      3\u001b[0m \u001b[0mprint\u001b[0m\u001b[0;34m(\u001b[0m\u001b[0;34m\"Correct: %.2f\"\u001b[0m \u001b[0;34m%\u001b[0m \u001b[0;34m(\u001b[0m\u001b[0msum\u001b[0m\u001b[0;34m(\u001b[0m\u001b[0moutput_mlmodel\u001b[0m \u001b[0;34m==\u001b[0m \u001b[0mmnist\u001b[0m\u001b[0;34m.\u001b[0m\u001b[0mtest\u001b[0m\u001b[0;34m.\u001b[0m\u001b[0mlabels\u001b[0m\u001b[0;34m)\u001b[0m \u001b[0;34m/\u001b[0m \u001b[0mmnist\u001b[0m\u001b[0;34m.\u001b[0m\u001b[0mtest\u001b[0m\u001b[0;34m.\u001b[0m\u001b[0mnum_examples\u001b[0m \u001b[0;34m*\u001b[0m \u001b[0;36m100\u001b[0m\u001b[0;34m)\u001b[0m \u001b[0;34m+\u001b[0m \u001b[0;34m\"%\"\u001b[0m\u001b[0;34m)\u001b[0m\u001b[0;34m\u001b[0m\u001b[0m\n",
            "\u001b[0;32m/usr/local/lib/python3.6/dist-packages/coremltools/models/model.py\u001b[0m in \u001b[0;36mpredict\u001b[0;34m(self, data, useCPUOnly, **kwargs)\u001b[0m\n\u001b[1;32m    265\u001b[0m         \u001b[0;32melse\u001b[0m\u001b[0;34m:\u001b[0m\u001b[0;34m\u001b[0m\u001b[0m\n\u001b[1;32m    266\u001b[0m             \u001b[0;32mif\u001b[0m \u001b[0m_macos_version\u001b[0m\u001b[0;34m(\u001b[0m\u001b[0;34m)\u001b[0m \u001b[0;34m<\u001b[0m \u001b[0;34m(\u001b[0m\u001b[0;36m10\u001b[0m\u001b[0;34m,\u001b[0m \u001b[0;36m13\u001b[0m\u001b[0;34m)\u001b[0m\u001b[0;34m:\u001b[0m\u001b[0;34m\u001b[0m\u001b[0m\n\u001b[0;32m--> 267\u001b[0;31m                 \u001b[0;32mraise\u001b[0m \u001b[0mException\u001b[0m\u001b[0;34m(\u001b[0m\u001b[0;34m'Model prediction is only supported on macOS version 10.13 or later.'\u001b[0m\u001b[0;34m)\u001b[0m\u001b[0;34m\u001b[0m\u001b[0m\n\u001b[0m\u001b[1;32m    268\u001b[0m \u001b[0;34m\u001b[0m\u001b[0m\n\u001b[1;32m    269\u001b[0m             \u001b[0;32mtry\u001b[0m\u001b[0;34m:\u001b[0m\u001b[0;34m\u001b[0m\u001b[0m\n",
            "\u001b[0;31mException\u001b[0m: Model prediction is only supported on macOS version 10.13 or later."
          ]
        }
      ]
    },
    {
      "metadata": {
        "id": "_m5GcgpvHlYx",
        "colab_type": "code",
        "colab": {
          "autoexec": {
            "startup": false,
            "wait_interval": 0
          },
          "base_uri": "https://localhost:8080/",
          "height": 34
        },
        "outputId": "da9439c6-a31e-42db-cdd5-227aecea9b37",
        "executionInfo": {
          "status": "ok",
          "timestamp": 1526209007058,
          "user_tz": -480,
          "elapsed": 2010,
          "user": {
            "displayName": "Yong-wu Wang",
            "photoUrl": "//lh4.googleusercontent.com/-8HezHldKILM/AAAAAAAAAAI/AAAAAAAAEM8/VTvDqPmS6pY/s50-c-k-no/photo.jpg",
            "userId": "108642259020524208320"
          }
        }
      },
      "cell_type": "code",
      "source": [
        "!ls"
      ],
      "execution_count": 3,
      "outputs": [
        {
          "output_type": "stream",
          "text": [
            "data  datalab  model  model.mlmodel  model.pb  tf-coreml\r\n"
          ],
          "name": "stdout"
        }
      ]
    },
    {
      "metadata": {
        "id": "cfk8qF3gGR1z",
        "colab_type": "code",
        "colab": {
          "autoexec": {
            "startup": false,
            "wait_interval": 0
          }
        }
      },
      "cell_type": "code",
      "source": [
        "from google.colab import files\n",
        "files.download('model.mlmodel')"
      ],
      "execution_count": 0,
      "outputs": []
    }
  ]
}