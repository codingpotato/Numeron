{
 "cells": [
  {
   "cell_type": "code",
   "execution_count": 1,
   "metadata": {},
   "outputs": [
    {
     "name": "stdout",
     "output_type": "stream",
     "text": [
      "Extracting data/train-images-idx3-ubyte.gz\n",
      "Extracting data/train-labels-idx1-ubyte.gz\n",
      "Extracting data/t10k-images-idx3-ubyte.gz\n",
      "Extracting data/t10k-labels-idx1-ubyte.gz\n"
     ]
    }
   ],
   "source": [
    "from tensorflow.examples.tutorials.mnist import input_data\n",
    "mnist = input_data.read_data_sets(\"data/\")"
   ]
  },
  {
   "cell_type": "code",
   "execution_count": 2,
   "metadata": {},
   "outputs": [],
   "source": [
    "import tensorflow as tf\n",
    "import numpy as np"
   ]
  },
  {
   "cell_type": "code",
   "execution_count": 3,
   "metadata": {},
   "outputs": [],
   "source": [
    "learning_rate = 0.01"
   ]
  },
  {
   "cell_type": "code",
   "execution_count": 4,
   "metadata": {},
   "outputs": [],
   "source": [
    "with tf.name_scope(\"cnn\"):\n",
    "    input = tf.placeholder(tf.float32, shape=(None, 28, 28, 1), name=\"input\")\n",
    "    conv1 = tf.layers.conv2d(input, 20, 5, activation=tf.nn.relu)\n",
    "    conv1 = tf.layers.max_pooling2d(conv1, 2, 2)\n",
    "    conv2 = tf.layers.conv2d(conv1, 32, 3, activation=tf.nn.relu)\n",
    "    conv2 = tf.layers.max_pooling2d(conv2, 2, 2)\n",
    "    flatten = tf.layers.flatten(conv2)\n",
    "    fc1 = tf.layers.dense(flatten, 256, activation=tf.nn.relu)\n",
    "    output = tf.layers.dense(fc1, 10)\n",
    "    result = tf.argmax(output, name=\"result\")"
   ]
  },
  {
   "cell_type": "code",
   "execution_count": 5,
   "metadata": {},
   "outputs": [],
   "source": [
    "with tf.name_scope(\"train\"):\n",
    "    labels = tf.placeholder(tf.int32, shape=(None))\n",
    "    loss = tf.reduce_mean(tf.nn.sparse_softmax_cross_entropy_with_logits(logits=output, labels=labels))\n",
    "    train = tf.train.AdamOptimizer(learning_rate=learning_rate).minimize(loss)"
   ]
  },
  {
   "cell_type": "code",
   "execution_count": null,
   "metadata": {},
   "outputs": [],
   "source": [
    "sess = tf.Session()\n",
    "sess.run(tf.global_variables_initializer())"
   ]
  },
  {
   "cell_type": "code",
   "execution_count": 24,
   "metadata": {},
   "outputs": [
    {
     "name": "stdout",
     "output_type": "stream",
     "text": [
      "0.0826182\n",
      "0.0771316\n",
      "0.0392423\n",
      "0.0638782\n",
      "0.111234\n"
     ]
    }
   ],
   "source": [
    "for i in range(5):\n",
    "    for j in range(1000):\n",
    "        (_, loss_return) = sess.run([train, loss], feed_dict={\n",
    "            input: np.reshape(mnist.train.images[55 * j: 55 * (j + 1)], (-1, 28, 28, 1)),\n",
    "            labels: mnist.train.labels[55 * j: 55 * (j + 1)]})\n",
    "    print(sess.run(loss, feed_dict={input: np.reshape(mnist.train.images, (-1, 28, 28, 1)),\n",
    "                                    labels: mnist.train.labels}))"
   ]
  },
  {
   "cell_type": "code",
   "execution_count": 25,
   "metadata": {},
   "outputs": [
    {
     "data": {
      "text/plain": [
       "0.98309999999999997"
      ]
     },
     "execution_count": 25,
     "metadata": {},
     "output_type": "execute_result"
    }
   ],
   "source": [
    "result_new = tf.argmax(output, axis = 1, name=\"res1\")\n",
    "\n",
    "test_input = np.reshape(mnist.test.images, (-1, 28, 28, 1))\n",
    "result_output = sess.run(result_new, feed_dict={input: test_input})\n",
    "\n",
    "sum(result_output == mnist.test.labels) / mnist.test.labels.shape[0]"
   ]
  },
  {
   "cell_type": "code",
   "execution_count": 26,
   "metadata": {},
   "outputs": [
    {
     "data": {
      "text/plain": [
       "'model/graph'"
      ]
     },
     "execution_count": 26,
     "metadata": {},
     "output_type": "execute_result"
    }
   ],
   "source": [
    "saver = tf.train.Saver()\n",
    "saver.save(sess, \"model/graph\")"
   ]
  }
 ],
 "metadata": {
  "kernelspec": {
   "display_name": "Python 3",
   "language": "python",
   "name": "python3"
  },
  "language_info": {
   "codemirror_mode": {
    "name": "ipython",
    "version": 3
   },
   "file_extension": ".py",
   "mimetype": "text/x-python",
   "name": "python",
   "nbconvert_exporter": "python",
   "pygments_lexer": "ipython3",
   "version": "3.6.4"
  }
 },
 "nbformat": 4,
 "nbformat_minor": 2
}
